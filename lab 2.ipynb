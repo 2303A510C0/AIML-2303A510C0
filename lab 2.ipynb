{
  "cells": [
    {
      "cell_type": "markdown",
      "metadata": {
        "id": "view-in-github",
        "colab_type": "text"
      },
      "source": [
        "<a href=\"https://colab.research.google.com/github/2303A510C0/AIML-2303A510C0/blob/main/lab%202.ipynb\" target=\"_parent\"><img src=\"https://colab.research.google.com/assets/colab-badge.svg\" alt=\"Open In Colab\"/></a>"
      ]
    },
    {
      "cell_type": "code",
      "source": [
        " from queue import Queue\n",
        " graph={0:[1,2,3],1:[0,2],2:[0,1,3,5],3:[0,2,4],4:[3,5,7],5:[4,6,7],6:[5,7],7:[4,5,6],8:[]}\n",
        " print(\"The adjacency List representing the graph is:\")\n",
        " print(graph)\n",
        " def bfs(graph,source):\n",
        "   Q=Queue()\n",
        "   visited_vertices=set()\n",
        "   Q.put(source)\n",
        "   visited_vertices.update({source})\n",
        "   while not Q.empty():\n",
        "      vertex=Q.get()\n",
        "      print(vertex,end=\"-->\")\n",
        "      for u in graph[vertex]:\n",
        "       if u not in visited_vertices:\n",
        "         Q.put(u)\n",
        "         visited_vertices.update({u})\n",
        " print(\"BFS traversal of graph with source 0is:\")\n",
        " bfs(graph,0)"
      ],
      "metadata": {
        "id": "Au2vgA1aFjOo",
        "outputId": "2a56c57e-ad10-4c3e-ea3a-3884a21ffb7b",
        "colab": {
          "base_uri": "https://localhost:8080/"
        }
      },
      "execution_count": 5,
      "outputs": [
        {
          "output_type": "stream",
          "name": "stdout",
          "text": [
            "The adjacency List representing the graph is:\n",
            "{0: [1, 2, 3], 1: [0, 2], 2: [0, 1, 3, 5], 3: [0, 2, 4], 4: [3, 5, 7], 5: [4, 6, 7], 6: [5, 7], 7: [4, 5, 6], 8: []}\n",
            "BFS traversal of graph with source 0is:\n",
            "0-->1-->2-->3-->5-->4-->6-->7-->"
          ]
        }
      ]
    },
    {
      "cell_type": "code",
      "source": [
        " graph1={\n",
        "      'A':['C','D','G'],\n",
        "      'B':['A'],\n",
        "      'C':['A','D','F'],\n",
        "      'D':['A','C','E','G','H'],\n",
        "      'E':['D','F','H'],\n",
        "      'F':['C','E'],\n",
        "      'G':['A','D','H'],\n",
        "      'H':['D','E','G'],\n",
        "\n",
        "}\n",
        " print(\"The adjacency List representing the graph is:\")\n",
        " print(graph1)\n",
        " def dfs(graph,node,visited):\n",
        "  if node not in visited:\n",
        "    visited.append(node)\n",
        "    for k in graph[node]:\n",
        "       dfs(graph,k,visited)\n",
        "  return visited\n",
        " visited=dfs(graph1,'B',[])\n",
        " print(visited)\n",
        ""
      ],
      "metadata": {
        "id": "Lv5hSaAoIf44",
        "outputId": "4e3f3f59-0b41-4b53-b426-442a96742dc5",
        "colab": {
          "base_uri": "https://localhost:8080/"
        }
      },
      "execution_count": 7,
      "outputs": [
        {
          "output_type": "stream",
          "name": "stdout",
          "text": [
            "The adjacency List representing the graph is:\n",
            "{'A': ['C', 'D', 'G'], 'B': ['A'], 'C': ['A', 'D', 'F'], 'D': ['A', 'C', 'E', 'G', 'H'], 'E': ['D', 'F', 'H'], 'F': ['C', 'E'], 'G': ['A', 'D', 'H'], 'H': ['D', 'E', 'G']}\n",
            "['B', 'A', 'C', 'D', 'E', 'F', 'H', 'G']\n"
          ]
        }
      ]
    }
  ],
  "metadata": {
    "colab": {
      "name": "Welcome To Colab",
      "toc_visible": true,
      "provenance": [],
      "include_colab_link": true
    },
    "kernelspec": {
      "display_name": "Python 3",
      "name": "python3"
    }
  },
  "nbformat": 4,
  "nbformat_minor": 0
}